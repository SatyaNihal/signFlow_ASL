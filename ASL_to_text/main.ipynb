{
 "cells": [
  {
   "cell_type": "markdown",
   "metadata": {},
   "source": [
    "# 1.Dependency Installation"
   ]
  },
  {
   "cell_type": "code",
   "execution_count": 288,
   "metadata": {},
   "outputs": [],
   "source": [
    "import cv2\n",
    "import numpy as np\n",
    "import os\n",
    "from matplotlib import pyplot as plt\n",
    "import time\n",
    "import mediapipe as mp\n"
   ]
  },
  {
   "cell_type": "markdown",
   "metadata": {},
   "source": [
    "# 2. Keypoints using MP Holistic"
   ]
  },
  {
   "cell_type": "code",
   "execution_count": 289,
   "metadata": {},
   "outputs": [],
   "source": [
    "mp_drawing = mp.solutions.drawing_utils\n",
    "mp_holistic = mp.solutions.holistic"
   ]
  },
  {
   "cell_type": "code",
   "execution_count": 290,
   "metadata": {},
   "outputs": [],
   "source": [
    "import cv2\n",
    "\n",
    "def mediapipe_detection(image, model):\n",
    "    image = cv2.cvtColor(image, cv2.COLOR_BGR2RGB)  # Convert from BGR to RGB\n",
    "    image.flags.writeable = False  # Make image read-only for optimization\n",
    "    results = model.process(image)  # Perform detection\n",
    "    image.flags.writeable = True  # Make image writeable again\n",
    "    image = cv2.cvtColor(image, cv2.COLOR_RGB2BGR)  # Convert back to BGR\n",
    "    return image, results\n"
   ]
  },
  {
   "cell_type": "code",
   "execution_count": 291,
   "metadata": {},
   "outputs": [],
   "source": [
    "def draw_landmarks(image, results):\n",
    "    # Draw face landmarks if detected\n",
    "    if results.face_landmarks:\n",
    "        mp_drawing.draw_landmarks(\n",
    "            image, results.face_landmarks, mp_holistic.FACEMESH_TESSELATION\n",
    "        )\n",
    "    \n",
    "    # Draw pose landmarks if detected\n",
    "    if results.pose_landmarks:\n",
    "        mp_drawing.draw_landmarks(\n",
    "            image, results.pose_landmarks, mp_holistic.POSE_CONNECTIONS\n",
    "        )\n",
    "    \n",
    "    # Draw left hand landmarks if detected\n",
    "    if results.left_hand_landmarks:\n",
    "        mp_drawing.draw_landmarks(\n",
    "            image, results.left_hand_landmarks, mp_holistic.HAND_CONNECTIONS\n",
    "        )\n",
    "    \n",
    "    # Draw right hand landmarks if detected\n",
    "    if results.right_hand_landmarks:\n",
    "        mp_drawing.draw_landmarks(\n",
    "            image, results.right_hand_landmarks, mp_holistic.HAND_CONNECTIONS\n",
    "        )\n"
   ]
  },
  {
   "cell_type": "code",
   "execution_count": 292,
   "metadata": {},
   "outputs": [],
   "source": [
    "def draw_styled_landmarks(image, results):\n",
    "    # Draw face landmarks\n",
    "    if results.face_landmarks:\n",
    "        mp_drawing.draw_landmarks(\n",
    "            image, results.face_landmarks, mp_holistic.FACEMESH_TESSELATION,\n",
    "            mp_drawing.DrawingSpec(color=(80, 110, 10), thickness=1, circle_radius=1),\n",
    "            mp_drawing.DrawingSpec(color=(80, 256, 121), thickness=1, circle_radius=1)\n",
    "        )\n",
    "    # Draw pose landmarks\n",
    "    if results.pose_landmarks:\n",
    "        mp_drawing.draw_landmarks(\n",
    "            image, results.pose_landmarks, mp_holistic.POSE_CONNECTIONS,\n",
    "            mp_drawing.DrawingSpec(color=(80, 22, 10), thickness=2, circle_radius=4),\n",
    "            mp_drawing.DrawingSpec(color=(80, 44, 121), thickness=2, circle_radius=2)\n",
    "        )\n",
    "    # Draw left hand landmarks\n",
    "    if results.left_hand_landmarks:\n",
    "        mp_drawing.draw_landmarks(\n",
    "            image, results.left_hand_landmarks, mp_holistic.HAND_CONNECTIONS,\n",
    "            mp_drawing.DrawingSpec(color=(121, 22, 76), thickness=2, circle_radius=4),\n",
    "            mp_drawing.DrawingSpec(color=(121, 44, 250), thickness=2, circle_radius=2)\n",
    "        )\n",
    "    # Draw right hand landmarks\n",
    "    if results.right_hand_landmarks:\n",
    "        mp_drawing.draw_landmarks(\n",
    "            image, results.right_hand_landmarks, mp_holistic.HAND_CONNECTIONS,\n",
    "            mp_drawing.DrawingSpec(color=(245, 117, 66), thickness=2, circle_radius=4),\n",
    "            mp_drawing.DrawingSpec(color=(245, 66, 230), thickness=2, circle_radius=2)\n",
    "        )"
   ]
  },
  {
   "cell_type": "code",
   "execution_count": 293,
   "metadata": {},
   "outputs": [],
   "source": [
    "# cap = cv2.VideoCapture(0)\n",
    "\n",
    "\n",
    "# # Start Mediapipe Holistic model\n",
    "# with mp_holistic.Holistic(min_detection_confidence=0.5, min_tracking_confidence=0.5) as holistic:\n",
    "#     while cap.isOpened():\n",
    "#         ret, frame = cap.read()\n",
    "#         if not ret:\n",
    "#             print(\"Failed to grab frame. Exiting...\")\n",
    "#             break\n",
    "\n",
    "#         # Make detections\n",
    "#         image, results = mediapipe_detection(frame, holistic)\n",
    "\n",
    "#         draw_styled_landmarks(image, results)\n",
    "#         # Print results for debugging\n",
    "#         print(results)\n",
    "\n",
    "#         # Display the processed frame\n",
    "#         cv2.imshow('OpenCV Feed', image)\n",
    "\n",
    "#         # Break gracefully on pressing 'q'\n",
    "#         if cv2.waitKey(10) & 0xFF == ord('q'):\n",
    "#             break\n",
    "\n",
    "# # Release resources\n",
    "# cap.release()\n",
    "# cv2.destroyAllWindows()"
   ]
  },
  {
   "cell_type": "code",
   "execution_count": 294,
   "metadata": {},
   "outputs": [
    {
     "data": {
      "text/plain": [
       "468"
      ]
     },
     "execution_count": 294,
     "metadata": {},
     "output_type": "execute_result"
    }
   ],
   "source": [
    "len(results.face_landmarks.landmark)\n"
   ]
  },
  {
   "cell_type": "code",
   "execution_count": 295,
   "metadata": {},
   "outputs": [
    {
     "data": {
      "text/plain": [
       "mediapipe.python.solution_base.SolutionOutputs"
      ]
     },
     "execution_count": 295,
     "metadata": {},
     "output_type": "execute_result"
    }
   ],
   "source": [
    "results"
   ]
  },
  {
   "cell_type": "code",
   "execution_count": 296,
   "metadata": {},
   "outputs": [],
   "source": [
    "# frame"
   ]
  },
  {
   "cell_type": "code",
   "execution_count": 297,
   "metadata": {},
   "outputs": [],
   "source": [
    "draw_landmarks(frame, results)"
   ]
  },
  {
   "cell_type": "code",
   "execution_count": 298,
   "metadata": {},
   "outputs": [],
   "source": [
    "# plt.imshow(cv2.cvtColor(frame, cv2.COLOR_BGR2RGB))"
   ]
  },
  {
   "cell_type": "markdown",
   "metadata": {},
   "source": [
    "# 3. Extract Keypoint Values"
   ]
  },
  {
   "cell_type": "code",
   "execution_count": 299,
   "metadata": {},
   "outputs": [],
   "source": [
    "pose = []\n",
    "for res in results.pose_landmarks.landmark:\n",
    "    test = np.array([res.x, res.y, res.z, res.visibility])\n",
    "    pose.append(test)\n"
   ]
  },
  {
   "cell_type": "code",
   "execution_count": 300,
   "metadata": {},
   "outputs": [],
   "source": [
    "pose = np.array([[res.x, res.y, res.z, res.visibility] for res in results.pose_landmarks.landmark])\n"
   ]
  },
  {
   "cell_type": "code",
   "execution_count": 301,
   "metadata": {},
   "outputs": [],
   "source": [
    "pose = np.array([[res.x, res.y, res.z, res.visibility] for res in results.pose_landmarks.landmark]) if results.pose_landmarks else np.zeros((33, 4))\n",
    "\n",
    "face = np.array([[res.x, res.y, res.z] for res in results.face_landmarks.landmark]).flatten() if results.face_landmarks else np.zeros(1404)\n",
    "\n",
    "lh = np.array([[res.x, res.y, res.z] for res in results.left_hand_landmarks.landmark]).flatten() if results.left_hand_landmarks else np.zeros(63)\n",
    "\n",
    "rh = np.array([[res.x, res.y, res.z] for res in results.right_hand_landmarks.landmark]).flatten() if results.right_hand_landmarks else np.zeros(63)\n"
   ]
  },
  {
   "cell_type": "code",
   "execution_count": 302,
   "metadata": {},
   "outputs": [],
   "source": [
    "import numpy as np\n",
    "\n",
    "def extract_keypoints(results):\n",
    "    # Extract pose landmarks\n",
    "    pose = np.array([[res.x, res.y, res.z, res.visibility] for res in results.pose_landmarks.landmark]).flatten() if results.pose_landmarks else np.zeros(33 * 4)\n",
    "    # Extract face landmarks\n",
    "    face = np.array([[res.x, res.y, res.z] for res in results.face_landmarks.landmark]).flatten() if results.face_landmarks else np.zeros(468 * 3)\n",
    "    # Extract left hand landmarks\n",
    "    lh = np.array([[res.x, res.y, res.z] for res in results.left_hand_landmarks.landmark]).flatten() if results.left_hand_landmarks else np.zeros(21 * 3)\n",
    "    # Extract right hand landmarks\n",
    "    rh = np.array([[res.x, res.y, res.z] for res in results.right_hand_landmarks.landmark]).flatten() if results.right_hand_landmarks else np.zeros(21 * 3)\n",
    "    # Concatenate all landmarks\n",
    "    return np.concatenate([pose, face, lh, rh])\n"
   ]
  },
  {
   "cell_type": "code",
   "execution_count": 303,
   "metadata": {},
   "outputs": [
    {
     "name": "stdout",
     "output_type": "stream",
     "text": [
      "[ 0.53746355  0.48297623 -1.28644204 ...  0.          0.\n",
      "  0.        ]\n"
     ]
    }
   ],
   "source": [
    "# Get keypoints from Mediapipe results\n",
    "result_test = extract_keypoints(results)\n",
    "print(result_test)\n"
   ]
  },
  {
   "cell_type": "code",
   "execution_count": 304,
   "metadata": {},
   "outputs": [],
   "source": [
    "np.save('keypoints.npy', result_test)\n"
   ]
  },
  {
   "cell_type": "code",
   "execution_count": 305,
   "metadata": {},
   "outputs": [
    {
     "name": "stdout",
     "output_type": "stream",
     "text": [
      "[ 0.53746355  0.48297623 -1.28644204 ...  0.          0.\n",
      "  0.        ]\n"
     ]
    }
   ],
   "source": [
    "loaded_keypoints = np.load('keypoints.npy')\n",
    "print(loaded_keypoints)\n"
   ]
  },
  {
   "cell_type": "markdown",
   "metadata": {},
   "source": [
    "# 4. Setup Folders for Collection"
   ]
  },
  {
   "cell_type": "code",
   "execution_count": 308,
   "metadata": {},
   "outputs": [],
   "source": [
    "import os\n",
    "import numpy as np\n",
    "\n",
    "# Path for exported data (numpy arrays)\n",
    "DATA_PATH = os.path.join('MP_Data')\n",
    "\n",
    "# Actions that we are trying to detect\n",
    "actions = np.array(['hello', 'thanks', 'iloveyou'])\n",
    "\n",
    "# Number of sequences (e.g., videos) to capture per action\n",
    "no_sequences = 60\n",
    "\n",
    "# Number of frames per sequence\n",
    "sequence_length = 30\n",
    "\n",
    "# Starting folder index (optional, useful for appending new data)\n",
    "start_folder = 0\n",
    "\n",
    "# Create folders for each action and sequence\n",
    "for action in actions:\n",
    "    action_path = os.path.join(DATA_PATH, action)  # Define path for the action\n",
    "    os.makedirs(action_path, exist_ok=True)  # Create action folder if it doesn't exist\n",
    "\n",
    "    for sequence in range(start_folder, start_folder + no_sequences):\n",
    "        sequence_path = os.path.join(action_path, str(sequence))\n",
    "        os.makedirs(sequence_path, exist_ok=True)  # Create sequence folder if it doesn't exist\n"
   ]
  },
  {
   "cell_type": "markdown",
   "metadata": {},
   "source": [
    "# 5. Collect Keypoint Values for training and testing"
   ]
  },
  {
   "cell_type": "code",
   "execution_count": 309,
   "metadata": {},
   "outputs": [],
   "source": [
    "import cv2\n",
    "import numpy as np\n",
    "import os\n",
    "\n",
    "# Define parameters\n",
    "DATA_PATH = os.path.join('MP_Data')\n",
    "actions = ['hello']  # Collecting only for 'hello'\n",
    "no_sequences = 60  # Number of videos to collect\n",
    "sequence_length = 30  # Frames per video\n",
    "start_folder = 0  # Starting sequence number\n",
    "\n",
    "cap = cv2.VideoCapture(0)\n",
    "\n",
    "# Set Mediapipe model\n",
    "with mp_holistic.Holistic(min_detection_confidence=0.5, min_tracking_confidence=0.5) as holistic:\n",
    "    try:\n",
    "        for action in actions:\n",
    "            for sequence in range(start_folder, start_folder + no_sequences):\n",
    "                for frame_num in range(sequence_length):\n",
    "                    ret, frame = cap.read()\n",
    "                    if not ret:\n",
    "                        print(\"Failed to grab frame. Skipping...\")\n",
    "                        break\n",
    "\n",
    "                    # Make detections\n",
    "                    image, results = mediapipe_detection(frame, holistic)\n",
    "\n",
    "                    # Draw landmarks\n",
    "                    draw_styled_landmarks(image, results)\n",
    "\n",
    "                    # Display status\n",
    "                    if frame_num == 0:\n",
    "                        cv2.putText(image, 'STARTING COLLECTION', (120, 200),\n",
    "                                    cv2.FONT_HERSHEY_SIMPLEX, 1, (0, 255, 0), 4, cv2.LINE_AA)\n",
    "                        cv2.putText(image, f'Collecting frames for {action} Video Number {sequence}', (15, 12),\n",
    "                                    cv2.FONT_HERSHEY_SIMPLEX, 0.5, (0, 0, 255), 1, cv2.LINE_AA)\n",
    "                        cv2.imshow('OpenCV Feed', image)\n",
    "                        cv2.waitKey(500)\n",
    "                    else:\n",
    "                        cv2.putText(image, f'Collecting frames for {action} Video Number {sequence}', (15, 12),\n",
    "                                    cv2.FONT_HERSHEY_SIMPLEX, 0.5, (0, 0, 255), 1, cv2.LINE_AA)\n",
    "                        cv2.imshow('OpenCV Feed', image)\n",
    "\n",
    "                    # Extract keypoints and save\n",
    "                    keypoints = extract_keypoints(results)\n",
    "                    npy_path = os.path.join(DATA_PATH, action, str(sequence), f'{frame_num}.npy')\n",
    "                    os.makedirs(os.path.dirname(npy_path), exist_ok=True)\n",
    "                    np.save(npy_path, keypoints)\n",
    "\n",
    "                    # Break gracefully if 'q' is pressed\n",
    "                    if cv2.waitKey(10) & 0xFF == ord('q'):\n",
    "                        break\n",
    "    except Exception as e:\n",
    "        print(f\"An error occurred: {e}\")\n",
    "    finally:\n",
    "        cap.release()\n",
    "        cv2.destroyAllWindows()\n"
   ]
  },
  {
   "cell_type": "code",
   "execution_count": 310,
   "metadata": {},
   "outputs": [],
   "source": [
    "# Change the action to 'iloveyou'\n",
    "actions = ['iloveyou']  # Collecting only for 'iloveyou'\n",
    "start_folder = 0  # Reset starting sequence number\n",
    "\n",
    "cap = cv2.VideoCapture(0)\n",
    "\n",
    "with mp_holistic.Holistic(min_detection_confidence=0.5, min_tracking_confidence=0.5) as holistic:\n",
    "    try:\n",
    "        for action in actions:\n",
    "            for sequence in range(start_folder, start_folder + no_sequences):\n",
    "                for frame_num in range(sequence_length):\n",
    "                    ret, frame = cap.read()\n",
    "                    if not ret:\n",
    "                        print(\"Failed to grab frame. Skipping...\")\n",
    "                        break\n",
    "\n",
    "                    image, results = mediapipe_detection(frame, holistic)\n",
    "                    draw_styled_landmarks(image, results)\n",
    "\n",
    "                    if frame_num == 0:\n",
    "                        cv2.putText(image, 'STARTING COLLECTION', (120, 200),\n",
    "                                    cv2.FONT_HERSHEY_SIMPLEX, 1, (0, 255, 0), 4, cv2.LINE_AA)\n",
    "                        cv2.putText(image, f'Collecting frames for {action} Video Number {sequence}', (15, 12),\n",
    "                                    cv2.FONT_HERSHEY_SIMPLEX, 0.5, (0, 0, 255), 1, cv2.LINE_AA)\n",
    "                        cv2.imshow('OpenCV Feed', image)\n",
    "                        cv2.waitKey(500)\n",
    "                    else:\n",
    "                        cv2.putText(image, f'Collecting frames for {action} Video Number {sequence}', (15, 12),\n",
    "                                    cv2.FONT_HERSHEY_SIMPLEX, 0.5, (0, 0, 255), 1, cv2.LINE_AA)\n",
    "                        cv2.imshow('OpenCV Feed', image)\n",
    "\n",
    "                    keypoints = extract_keypoints(results)\n",
    "                    npy_path = os.path.join(DATA_PATH, action, str(sequence), f'{frame_num}.npy')\n",
    "                    os.makedirs(os.path.dirname(npy_path), exist_ok=True)\n",
    "                    np.save(npy_path, keypoints)\n",
    "\n",
    "                    if cv2.waitKey(10) & 0xFF == ord('q'):\n",
    "                        break\n",
    "    except Exception as e:\n",
    "        print(f\"An error occurred: {e}\")\n",
    "    finally:\n",
    "        cap.release()\n",
    "        cv2.destroyAllWindows()\n"
   ]
  },
  {
   "cell_type": "code",
   "execution_count": 311,
   "metadata": {},
   "outputs": [],
   "source": [
    "# Change the action to 'thanks'\n",
    "actions = ['thanks']  # Collecting only for 'thanks'\n",
    "start_folder = 0  # Reset starting sequence number\n",
    "\n",
    "cap = cv2.VideoCapture(0)\n",
    "\n",
    "with mp_holistic.Holistic(min_detection_confidence=0.5, min_tracking_confidence=0.5) as holistic:\n",
    "    try:\n",
    "        for action in actions:\n",
    "            for sequence in range(start_folder, start_folder + no_sequences):\n",
    "                for frame_num in range(sequence_length):\n",
    "                    ret, frame = cap.read()\n",
    "                    if not ret:\n",
    "                        print(\"Failed to grab frame. Skipping...\")\n",
    "                        break\n",
    "\n",
    "                    image, results = mediapipe_detection(frame, holistic)\n",
    "                    draw_styled_landmarks(image, results)\n",
    "\n",
    "                    if frame_num == 0:\n",
    "                        cv2.putText(image, 'STARTING COLLECTION', (120, 200),\n",
    "                                    cv2.FONT_HERSHEY_SIMPLEX, 1, (0, 255, 0), 4, cv2.LINE_AA)\n",
    "                        cv2.putText(image, f'Collecting frames for {action} Video Number {sequence}', (15, 12),\n",
    "                                    cv2.FONT_HERSHEY_SIMPLEX, 0.5, (0, 0, 255), 1, cv2.LINE_AA)\n",
    "                        cv2.imshow('OpenCV Feed', image)\n",
    "                        cv2.waitKey(500)\n",
    "                    else:\n",
    "                        cv2.putText(image, f'Collecting frames for {action} Video Number {sequence}', (15, 12),\n",
    "                                    cv2.FONT_HERSHEY_SIMPLEX, 0.5, (0, 0, 255), 1, cv2.LINE_AA)\n",
    "                        cv2.imshow('OpenCV Feed', image)\n",
    "\n",
    "                    keypoints = extract_keypoints(results)\n",
    "                    npy_path = os.path.join(DATA_PATH, action, str(sequence), f'{frame_num}.npy')\n",
    "                    os.makedirs(os.path.dirname(npy_path), exist_ok=True)\n",
    "                    np.save(npy_path, keypoints)\n",
    "\n",
    "                    if cv2.waitKey(10) & 0xFF == ord('q'):\n",
    "                        break\n",
    "    except Exception as e:\n",
    "        print(f\"An error occurred: {e}\")\n",
    "    finally:\n",
    "        cap.release()\n",
    "        cv2.destroyAllWindows()\n"
   ]
  },
  {
   "cell_type": "markdown",
   "metadata": {},
   "source": [
    "# 6. Preprocessing "
   ]
  },
  {
   "cell_type": "code",
   "execution_count": 312,
   "metadata": {},
   "outputs": [
    {
     "name": "stdout",
     "output_type": "stream",
     "text": [
      "X shape: (180, 30, 1662)\n",
      "y shape: (180, 3)\n",
      "X_train shape: (171, 30, 1662)\n",
      "X_test shape: (9, 30, 1662)\n",
      "y_train shape: (171, 3)\n",
      "y_test shape: (9, 3)\n"
     ]
    }
   ],
   "source": [
    "import os\n",
    "import numpy as np\n",
    "from sklearn.model_selection import train_test_split\n",
    "from tensorflow.keras.utils import to_categorical\n",
    "\n",
    "# Parameters\n",
    "DATA_PATH = 'MP_Data'\n",
    "actions = np.array(['hello', 'thanks', 'iloveyou'])\n",
    "sequence_length = 30\n",
    "\n",
    "# Map actions to labels\n",
    "label_map = {label: num for num, label in enumerate(actions)}\n",
    "\n",
    "# Load sequences and labels\n",
    "sequences, labels = [], []\n",
    "for action in actions:\n",
    "    action_path = os.path.join(DATA_PATH, action)\n",
    "    for sequence in np.array(os.listdir(action_path)).astype(int):\n",
    "        window = []\n",
    "        for frame_num in range(sequence_length):\n",
    "            npy_path = os.path.join(action_path, str(sequence), f'{frame_num}.npy')\n",
    "            res = np.load(npy_path)\n",
    "            window.append(res)\n",
    "        sequences.append(window)\n",
    "        labels.append(label_map[action])\n",
    "\n",
    "# Convert to arrays\n",
    "X = np.array(sequences)\n",
    "y = to_categorical(labels).astype(int)\n",
    "\n",
    "# Train-test split\n",
    "X_train, X_test, y_train, y_test = train_test_split(X, y, test_size=0.05, random_state=42)\n",
    "\n",
    "# Print shapes\n",
    "print(\"X shape:\", X.shape)\n",
    "print(\"y shape:\", y.shape)\n",
    "print(\"X_train shape:\", X_train.shape)\n",
    "print(\"X_test shape:\", X_test.shape)\n",
    "print(\"y_train shape:\", y_train.shape)\n",
    "print(\"y_test shape:\", y_test.shape)\n"
   ]
  },
  {
   "cell_type": "markdown",
   "metadata": {},
   "source": [
    "# 7. Building Model - LSTM Neural Network"
   ]
  },
  {
   "cell_type": "code",
   "execution_count": 366,
   "metadata": {},
   "outputs": [
    {
     "name": "stdout",
     "output_type": "stream",
     "text": [
      "Model: \"sequential_8\"\n",
      "_________________________________________________________________\n",
      " Layer (type)                Output Shape              Param #   \n",
      "=================================================================\n",
      " lstm_20 (LSTM)              (None, 30, 64)            442112    \n",
      "                                                                 \n",
      " lstm_21 (LSTM)              (None, 128)               98816     \n",
      "                                                                 \n",
      " dense_19 (Dense)            (None, 64)                8256      \n",
      "                                                                 \n",
      " dense_20 (Dense)            (None, 3)                 195       \n",
      "                                                                 \n",
      "=================================================================\n",
      "Total params: 549379 (2.10 MB)\n",
      "Trainable params: 549379 (2.10 MB)\n",
      "Non-trainable params: 0 (0.00 Byte)\n",
      "_________________________________________________________________\n"
     ]
    }
   ],
   "source": [
    "import os\n",
    "import numpy as np\n",
    "from tensorflow.keras.models import Sequential\n",
    "from tensorflow.keras.layers import LSTM, Dense\n",
    "from tensorflow.keras.callbacks import TensorBoard, EarlyStopping\n",
    "\n",
    "# TensorBoard callback setup\n",
    "log_dir = os.path.join('Logs')\n",
    "tb_callback = TensorBoard(log_dir=log_dir)\n",
    "\n",
    "# Early stopping to prevent overfitting\n",
    "early_stopping = EarlyStopping(monitor='val_loss', patience=10, restore_best_weights=True)\n",
    "\n",
    "# Define actions (categories) and other parameters\n",
    "actions = np.array(['hello', 'thanks', 'iloveyou'])\n",
    "sequence_length = 30  # Number of frames per sequence\n",
    "input_features = 1662  # Number of features per frame\n",
    "\n",
    "# Build the LSTM model\n",
    "model = Sequential()\n",
    "model.add(LSTM(64, return_sequences=True, activation='relu', input_shape=(sequence_length, input_features)))\n",
    "model.add(LSTM(128, return_sequences=False, activation='relu'))\n",
    "model.add(Dense(64, activation='relu'))\n",
    "model.add(Dense(len(actions), activation='softmax'))  # Output layer for 3 categories\n",
    "\n",
    "# Compile the model\n",
    "model.compile(\n",
    "    optimizer='Adam',\n",
    "    loss='categorical_crossentropy',\n",
    "    metrics=['categorical_accuracy']\n",
    ")\n",
    "\n",
    "# Print model summary\n",
    "model.summary()\n",
    "\n"
   ]
  },
  {
   "cell_type": "code",
   "execution_count": 367,
   "metadata": {},
   "outputs": [
    {
     "name": "stdout",
     "output_type": "stream",
     "text": [
      "Epoch 1/200\n",
      "11/11 [==============================] - 5s 133ms/step - loss: 2.6075 - categorical_accuracy: 0.3275 - val_loss: 0.9712 - val_categorical_accuracy: 0.4444\n",
      "Epoch 2/200\n",
      "11/11 [==============================] - 1s 91ms/step - loss: 0.6674 - categorical_accuracy: 0.6959 - val_loss: 0.1019 - val_categorical_accuracy: 1.0000\n",
      "Epoch 3/200\n",
      "11/11 [==============================] - 1s 96ms/step - loss: 0.2460 - categorical_accuracy: 0.9474 - val_loss: 1.1695 - val_categorical_accuracy: 0.5556\n",
      "Epoch 4/200\n",
      "11/11 [==============================] - 1s 89ms/step - loss: 0.3555 - categorical_accuracy: 0.8947 - val_loss: 0.1359 - val_categorical_accuracy: 1.0000\n",
      "Epoch 5/200\n",
      "11/11 [==============================] - 1s 87ms/step - loss: 0.0813 - categorical_accuracy: 0.9942 - val_loss: 0.3674 - val_categorical_accuracy: 0.7778\n",
      "Epoch 6/200\n",
      "11/11 [==============================] - 1s 91ms/step - loss: 0.2456 - categorical_accuracy: 0.9064 - val_loss: 0.0038 - val_categorical_accuracy: 1.0000\n",
      "Epoch 7/200\n",
      "11/11 [==============================] - 1s 92ms/step - loss: 0.0959 - categorical_accuracy: 0.9766 - val_loss: 0.0782 - val_categorical_accuracy: 1.0000\n",
      "Epoch 8/200\n",
      "11/11 [==============================] - 1s 92ms/step - loss: 0.0429 - categorical_accuracy: 0.9942 - val_loss: 9.1429e-04 - val_categorical_accuracy: 1.0000\n",
      "Epoch 9/200\n",
      " 2/11 [====>.........................] - ETA: 0s - loss: 0.0013 - categorical_accuracy: 1.0000    "
     ]
    },
    {
     "ename": "KeyboardInterrupt",
     "evalue": "",
     "output_type": "error",
     "traceback": [
      "\u001b[1;31m---------------------------------------------------------------------------\u001b[0m",
      "\u001b[1;31mKeyboardInterrupt\u001b[0m                         Traceback (most recent call last)",
      "Cell \u001b[1;32mIn[367], line 1\u001b[0m\n\u001b[1;32m----> 1\u001b[0m history \u001b[38;5;241m=\u001b[39m \u001b[43mmodel\u001b[49m\u001b[38;5;241;43m.\u001b[39;49m\u001b[43mfit\u001b[49m\u001b[43m(\u001b[49m\n\u001b[0;32m      2\u001b[0m \u001b[43m    \u001b[49m\u001b[43mX_train\u001b[49m\u001b[43m,\u001b[49m\u001b[43m \u001b[49m\u001b[43my_train\u001b[49m\u001b[43m,\u001b[49m\n\u001b[0;32m      3\u001b[0m \u001b[43m    \u001b[49m\u001b[43mepochs\u001b[49m\u001b[38;5;241;43m=\u001b[39;49m\u001b[38;5;241;43m200\u001b[39;49m\u001b[43m,\u001b[49m\n\u001b[0;32m      4\u001b[0m \u001b[43m    \u001b[49m\u001b[43mvalidation_data\u001b[49m\u001b[38;5;241;43m=\u001b[39;49m\u001b[43m(\u001b[49m\u001b[43mX_test\u001b[49m\u001b[43m,\u001b[49m\u001b[43m \u001b[49m\u001b[43my_test\u001b[49m\u001b[43m)\u001b[49m\u001b[43m,\u001b[49m\n\u001b[0;32m      5\u001b[0m \u001b[43m    \u001b[49m\u001b[43mbatch_size\u001b[49m\u001b[38;5;241;43m=\u001b[39;49m\u001b[38;5;241;43m16\u001b[39;49m\u001b[43m,\u001b[49m\n\u001b[0;32m      6\u001b[0m \u001b[43m    \u001b[49m\u001b[43mcallbacks\u001b[49m\u001b[38;5;241;43m=\u001b[39;49m\u001b[43m[\u001b[49m\u001b[43mtb_callback\u001b[49m\u001b[43m]\u001b[49m\u001b[43m  \u001b[49m\u001b[38;5;66;43;03m# Add EarlyStopping if needed\u001b[39;49;00m\n\u001b[0;32m      7\u001b[0m \u001b[43m)\u001b[49m\n",
      "File \u001b[1;32mc:\\Users\\hetb0\\Desktop\\Projects\\ASL_translator\\.venv\\lib\\site-packages\\keras\\src\\utils\\traceback_utils.py:65\u001b[0m, in \u001b[0;36mfilter_traceback.<locals>.error_handler\u001b[1;34m(*args, **kwargs)\u001b[0m\n\u001b[0;32m     63\u001b[0m filtered_tb \u001b[38;5;241m=\u001b[39m \u001b[38;5;28;01mNone\u001b[39;00m\n\u001b[0;32m     64\u001b[0m \u001b[38;5;28;01mtry\u001b[39;00m:\n\u001b[1;32m---> 65\u001b[0m     \u001b[38;5;28;01mreturn\u001b[39;00m \u001b[43mfn\u001b[49m\u001b[43m(\u001b[49m\u001b[38;5;241;43m*\u001b[39;49m\u001b[43margs\u001b[49m\u001b[43m,\u001b[49m\u001b[43m \u001b[49m\u001b[38;5;241;43m*\u001b[39;49m\u001b[38;5;241;43m*\u001b[39;49m\u001b[43mkwargs\u001b[49m\u001b[43m)\u001b[49m\n\u001b[0;32m     66\u001b[0m \u001b[38;5;28;01mexcept\u001b[39;00m \u001b[38;5;167;01mException\u001b[39;00m \u001b[38;5;28;01mas\u001b[39;00m e:\n\u001b[0;32m     67\u001b[0m     filtered_tb \u001b[38;5;241m=\u001b[39m _process_traceback_frames(e\u001b[38;5;241m.\u001b[39m__traceback__)\n",
      "File \u001b[1;32mc:\\Users\\hetb0\\Desktop\\Projects\\ASL_translator\\.venv\\lib\\site-packages\\keras\\src\\engine\\training.py:1742\u001b[0m, in \u001b[0;36mModel.fit\u001b[1;34m(self, x, y, batch_size, epochs, verbose, callbacks, validation_split, validation_data, shuffle, class_weight, sample_weight, initial_epoch, steps_per_epoch, validation_steps, validation_batch_size, validation_freq, max_queue_size, workers, use_multiprocessing)\u001b[0m\n\u001b[0;32m   1734\u001b[0m \u001b[38;5;28;01mwith\u001b[39;00m tf\u001b[38;5;241m.\u001b[39mprofiler\u001b[38;5;241m.\u001b[39mexperimental\u001b[38;5;241m.\u001b[39mTrace(\n\u001b[0;32m   1735\u001b[0m     \u001b[38;5;124m\"\u001b[39m\u001b[38;5;124mtrain\u001b[39m\u001b[38;5;124m\"\u001b[39m,\n\u001b[0;32m   1736\u001b[0m     epoch_num\u001b[38;5;241m=\u001b[39mepoch,\n\u001b[1;32m   (...)\u001b[0m\n\u001b[0;32m   1739\u001b[0m     _r\u001b[38;5;241m=\u001b[39m\u001b[38;5;241m1\u001b[39m,\n\u001b[0;32m   1740\u001b[0m ):\n\u001b[0;32m   1741\u001b[0m     callbacks\u001b[38;5;241m.\u001b[39mon_train_batch_begin(step)\n\u001b[1;32m-> 1742\u001b[0m     tmp_logs \u001b[38;5;241m=\u001b[39m \u001b[38;5;28;43mself\u001b[39;49m\u001b[38;5;241;43m.\u001b[39;49m\u001b[43mtrain_function\u001b[49m\u001b[43m(\u001b[49m\u001b[43miterator\u001b[49m\u001b[43m)\u001b[49m\n\u001b[0;32m   1743\u001b[0m     \u001b[38;5;28;01mif\u001b[39;00m data_handler\u001b[38;5;241m.\u001b[39mshould_sync:\n\u001b[0;32m   1744\u001b[0m         context\u001b[38;5;241m.\u001b[39masync_wait()\n",
      "File \u001b[1;32mc:\\Users\\hetb0\\Desktop\\Projects\\ASL_translator\\.venv\\lib\\site-packages\\tensorflow\\python\\util\\traceback_utils.py:150\u001b[0m, in \u001b[0;36mfilter_traceback.<locals>.error_handler\u001b[1;34m(*args, **kwargs)\u001b[0m\n\u001b[0;32m    148\u001b[0m filtered_tb \u001b[38;5;241m=\u001b[39m \u001b[38;5;28;01mNone\u001b[39;00m\n\u001b[0;32m    149\u001b[0m \u001b[38;5;28;01mtry\u001b[39;00m:\n\u001b[1;32m--> 150\u001b[0m   \u001b[38;5;28;01mreturn\u001b[39;00m \u001b[43mfn\u001b[49m\u001b[43m(\u001b[49m\u001b[38;5;241;43m*\u001b[39;49m\u001b[43margs\u001b[49m\u001b[43m,\u001b[49m\u001b[43m \u001b[49m\u001b[38;5;241;43m*\u001b[39;49m\u001b[38;5;241;43m*\u001b[39;49m\u001b[43mkwargs\u001b[49m\u001b[43m)\u001b[49m\n\u001b[0;32m    151\u001b[0m \u001b[38;5;28;01mexcept\u001b[39;00m \u001b[38;5;167;01mException\u001b[39;00m \u001b[38;5;28;01mas\u001b[39;00m e:\n\u001b[0;32m    152\u001b[0m   filtered_tb \u001b[38;5;241m=\u001b[39m _process_traceback_frames(e\u001b[38;5;241m.\u001b[39m__traceback__)\n",
      "File \u001b[1;32mc:\\Users\\hetb0\\Desktop\\Projects\\ASL_translator\\.venv\\lib\\site-packages\\tensorflow\\python\\eager\\polymorphic_function\\polymorphic_function.py:825\u001b[0m, in \u001b[0;36mFunction.__call__\u001b[1;34m(self, *args, **kwds)\u001b[0m\n\u001b[0;32m    822\u001b[0m compiler \u001b[38;5;241m=\u001b[39m \u001b[38;5;124m\"\u001b[39m\u001b[38;5;124mxla\u001b[39m\u001b[38;5;124m\"\u001b[39m \u001b[38;5;28;01mif\u001b[39;00m \u001b[38;5;28mself\u001b[39m\u001b[38;5;241m.\u001b[39m_jit_compile \u001b[38;5;28;01melse\u001b[39;00m \u001b[38;5;124m\"\u001b[39m\u001b[38;5;124mnonXla\u001b[39m\u001b[38;5;124m\"\u001b[39m\n\u001b[0;32m    824\u001b[0m \u001b[38;5;28;01mwith\u001b[39;00m OptionalXlaContext(\u001b[38;5;28mself\u001b[39m\u001b[38;5;241m.\u001b[39m_jit_compile):\n\u001b[1;32m--> 825\u001b[0m   result \u001b[38;5;241m=\u001b[39m \u001b[38;5;28;43mself\u001b[39;49m\u001b[38;5;241;43m.\u001b[39;49m\u001b[43m_call\u001b[49m\u001b[43m(\u001b[49m\u001b[38;5;241;43m*\u001b[39;49m\u001b[43margs\u001b[49m\u001b[43m,\u001b[49m\u001b[43m \u001b[49m\u001b[38;5;241;43m*\u001b[39;49m\u001b[38;5;241;43m*\u001b[39;49m\u001b[43mkwds\u001b[49m\u001b[43m)\u001b[49m\n\u001b[0;32m    827\u001b[0m new_tracing_count \u001b[38;5;241m=\u001b[39m \u001b[38;5;28mself\u001b[39m\u001b[38;5;241m.\u001b[39mexperimental_get_tracing_count()\n\u001b[0;32m    828\u001b[0m without_tracing \u001b[38;5;241m=\u001b[39m (tracing_count \u001b[38;5;241m==\u001b[39m new_tracing_count)\n",
      "File \u001b[1;32mc:\\Users\\hetb0\\Desktop\\Projects\\ASL_translator\\.venv\\lib\\site-packages\\tensorflow\\python\\eager\\polymorphic_function\\polymorphic_function.py:857\u001b[0m, in \u001b[0;36mFunction._call\u001b[1;34m(self, *args, **kwds)\u001b[0m\n\u001b[0;32m    854\u001b[0m   \u001b[38;5;28mself\u001b[39m\u001b[38;5;241m.\u001b[39m_lock\u001b[38;5;241m.\u001b[39mrelease()\n\u001b[0;32m    855\u001b[0m   \u001b[38;5;66;03m# In this case we have created variables on the first call, so we run the\u001b[39;00m\n\u001b[0;32m    856\u001b[0m   \u001b[38;5;66;03m# defunned version which is guaranteed to never create variables.\u001b[39;00m\n\u001b[1;32m--> 857\u001b[0m   \u001b[38;5;28;01mreturn\u001b[39;00m \u001b[38;5;28;43mself\u001b[39;49m\u001b[38;5;241;43m.\u001b[39;49m\u001b[43m_no_variable_creation_fn\u001b[49m\u001b[43m(\u001b[49m\u001b[38;5;241;43m*\u001b[39;49m\u001b[43margs\u001b[49m\u001b[43m,\u001b[49m\u001b[43m \u001b[49m\u001b[38;5;241;43m*\u001b[39;49m\u001b[38;5;241;43m*\u001b[39;49m\u001b[43mkwds\u001b[49m\u001b[43m)\u001b[49m  \u001b[38;5;66;03m# pylint: disable=not-callable\u001b[39;00m\n\u001b[0;32m    858\u001b[0m \u001b[38;5;28;01melif\u001b[39;00m \u001b[38;5;28mself\u001b[39m\u001b[38;5;241m.\u001b[39m_variable_creation_fn \u001b[38;5;129;01mis\u001b[39;00m \u001b[38;5;129;01mnot\u001b[39;00m \u001b[38;5;28;01mNone\u001b[39;00m:\n\u001b[0;32m    859\u001b[0m   \u001b[38;5;66;03m# Release the lock early so that multiple threads can perform the call\u001b[39;00m\n\u001b[0;32m    860\u001b[0m   \u001b[38;5;66;03m# in parallel.\u001b[39;00m\n\u001b[0;32m    861\u001b[0m   \u001b[38;5;28mself\u001b[39m\u001b[38;5;241m.\u001b[39m_lock\u001b[38;5;241m.\u001b[39mrelease()\n",
      "File \u001b[1;32mc:\\Users\\hetb0\\Desktop\\Projects\\ASL_translator\\.venv\\lib\\site-packages\\tensorflow\\python\\eager\\polymorphic_function\\tracing_compiler.py:148\u001b[0m, in \u001b[0;36mTracingCompiler.__call__\u001b[1;34m(self, *args, **kwargs)\u001b[0m\n\u001b[0;32m    145\u001b[0m \u001b[38;5;28;01mwith\u001b[39;00m \u001b[38;5;28mself\u001b[39m\u001b[38;5;241m.\u001b[39m_lock:\n\u001b[0;32m    146\u001b[0m   (concrete_function,\n\u001b[0;32m    147\u001b[0m    filtered_flat_args) \u001b[38;5;241m=\u001b[39m \u001b[38;5;28mself\u001b[39m\u001b[38;5;241m.\u001b[39m_maybe_define_function(args, kwargs)\n\u001b[1;32m--> 148\u001b[0m \u001b[38;5;28;01mreturn\u001b[39;00m \u001b[43mconcrete_function\u001b[49m\u001b[38;5;241;43m.\u001b[39;49m\u001b[43m_call_flat\u001b[49m\u001b[43m(\u001b[49m\n\u001b[0;32m    149\u001b[0m \u001b[43m    \u001b[49m\u001b[43mfiltered_flat_args\u001b[49m\u001b[43m,\u001b[49m\u001b[43m \u001b[49m\u001b[43mcaptured_inputs\u001b[49m\u001b[38;5;241;43m=\u001b[39;49m\u001b[43mconcrete_function\u001b[49m\u001b[38;5;241;43m.\u001b[39;49m\u001b[43mcaptured_inputs\u001b[49m\u001b[43m)\u001b[49m\n",
      "File \u001b[1;32mc:\\Users\\hetb0\\Desktop\\Projects\\ASL_translator\\.venv\\lib\\site-packages\\tensorflow\\python\\eager\\polymorphic_function\\monomorphic_function.py:1349\u001b[0m, in \u001b[0;36mConcreteFunction._call_flat\u001b[1;34m(self, args, captured_inputs)\u001b[0m\n\u001b[0;32m   1345\u001b[0m possible_gradient_type \u001b[38;5;241m=\u001b[39m gradients_util\u001b[38;5;241m.\u001b[39mPossibleTapeGradientTypes(args)\n\u001b[0;32m   1346\u001b[0m \u001b[38;5;28;01mif\u001b[39;00m (possible_gradient_type \u001b[38;5;241m==\u001b[39m gradients_util\u001b[38;5;241m.\u001b[39mPOSSIBLE_GRADIENT_TYPES_NONE\n\u001b[0;32m   1347\u001b[0m     \u001b[38;5;129;01mand\u001b[39;00m executing_eagerly):\n\u001b[0;32m   1348\u001b[0m   \u001b[38;5;66;03m# No tape is watching; skip to running the function.\u001b[39;00m\n\u001b[1;32m-> 1349\u001b[0m   \u001b[38;5;28;01mreturn\u001b[39;00m \u001b[38;5;28mself\u001b[39m\u001b[38;5;241m.\u001b[39m_build_call_outputs(\u001b[38;5;28;43mself\u001b[39;49m\u001b[38;5;241;43m.\u001b[39;49m\u001b[43m_inference_function\u001b[49m\u001b[43m(\u001b[49m\u001b[38;5;241;43m*\u001b[39;49m\u001b[43margs\u001b[49m\u001b[43m)\u001b[49m)\n\u001b[0;32m   1350\u001b[0m forward_backward \u001b[38;5;241m=\u001b[39m \u001b[38;5;28mself\u001b[39m\u001b[38;5;241m.\u001b[39m_select_forward_and_backward_functions(\n\u001b[0;32m   1351\u001b[0m     args,\n\u001b[0;32m   1352\u001b[0m     possible_gradient_type,\n\u001b[0;32m   1353\u001b[0m     executing_eagerly)\n\u001b[0;32m   1354\u001b[0m forward_function, args_with_tangents \u001b[38;5;241m=\u001b[39m forward_backward\u001b[38;5;241m.\u001b[39mforward()\n",
      "File \u001b[1;32mc:\\Users\\hetb0\\Desktop\\Projects\\ASL_translator\\.venv\\lib\\site-packages\\tensorflow\\python\\eager\\polymorphic_function\\atomic_function.py:196\u001b[0m, in \u001b[0;36mAtomicFunction.__call__\u001b[1;34m(self, *args)\u001b[0m\n\u001b[0;32m    194\u001b[0m \u001b[38;5;28;01mwith\u001b[39;00m record\u001b[38;5;241m.\u001b[39mstop_recording():\n\u001b[0;32m    195\u001b[0m   \u001b[38;5;28;01mif\u001b[39;00m \u001b[38;5;28mself\u001b[39m\u001b[38;5;241m.\u001b[39m_bound_context\u001b[38;5;241m.\u001b[39mexecuting_eagerly():\n\u001b[1;32m--> 196\u001b[0m     outputs \u001b[38;5;241m=\u001b[39m \u001b[38;5;28;43mself\u001b[39;49m\u001b[38;5;241;43m.\u001b[39;49m\u001b[43m_bound_context\u001b[49m\u001b[38;5;241;43m.\u001b[39;49m\u001b[43mcall_function\u001b[49m\u001b[43m(\u001b[49m\n\u001b[0;32m    197\u001b[0m \u001b[43m        \u001b[49m\u001b[38;5;28;43mself\u001b[39;49m\u001b[38;5;241;43m.\u001b[39;49m\u001b[43mname\u001b[49m\u001b[43m,\u001b[49m\n\u001b[0;32m    198\u001b[0m \u001b[43m        \u001b[49m\u001b[38;5;28;43mlist\u001b[39;49m\u001b[43m(\u001b[49m\u001b[43margs\u001b[49m\u001b[43m)\u001b[49m\u001b[43m,\u001b[49m\n\u001b[0;32m    199\u001b[0m \u001b[43m        \u001b[49m\u001b[38;5;28;43mlen\u001b[39;49m\u001b[43m(\u001b[49m\u001b[38;5;28;43mself\u001b[39;49m\u001b[38;5;241;43m.\u001b[39;49m\u001b[43mfunction_type\u001b[49m\u001b[38;5;241;43m.\u001b[39;49m\u001b[43mflat_outputs\u001b[49m\u001b[43m)\u001b[49m\u001b[43m,\u001b[49m\n\u001b[0;32m    200\u001b[0m \u001b[43m    \u001b[49m\u001b[43m)\u001b[49m\n\u001b[0;32m    201\u001b[0m   \u001b[38;5;28;01melse\u001b[39;00m:\n\u001b[0;32m    202\u001b[0m     outputs \u001b[38;5;241m=\u001b[39m make_call_op_in_graph(\u001b[38;5;28mself\u001b[39m, \u001b[38;5;28mlist\u001b[39m(args))\n",
      "File \u001b[1;32mc:\\Users\\hetb0\\Desktop\\Projects\\ASL_translator\\.venv\\lib\\site-packages\\tensorflow\\python\\eager\\context.py:1457\u001b[0m, in \u001b[0;36mContext.call_function\u001b[1;34m(self, name, tensor_inputs, num_outputs)\u001b[0m\n\u001b[0;32m   1455\u001b[0m cancellation_context \u001b[38;5;241m=\u001b[39m cancellation\u001b[38;5;241m.\u001b[39mcontext()\n\u001b[0;32m   1456\u001b[0m \u001b[38;5;28;01mif\u001b[39;00m cancellation_context \u001b[38;5;129;01mis\u001b[39;00m \u001b[38;5;28;01mNone\u001b[39;00m:\n\u001b[1;32m-> 1457\u001b[0m   outputs \u001b[38;5;241m=\u001b[39m \u001b[43mexecute\u001b[49m\u001b[38;5;241;43m.\u001b[39;49m\u001b[43mexecute\u001b[49m\u001b[43m(\u001b[49m\n\u001b[0;32m   1458\u001b[0m \u001b[43m      \u001b[49m\u001b[43mname\u001b[49m\u001b[38;5;241;43m.\u001b[39;49m\u001b[43mdecode\u001b[49m\u001b[43m(\u001b[49m\u001b[38;5;124;43m\"\u001b[39;49m\u001b[38;5;124;43mutf-8\u001b[39;49m\u001b[38;5;124;43m\"\u001b[39;49m\u001b[43m)\u001b[49m\u001b[43m,\u001b[49m\n\u001b[0;32m   1459\u001b[0m \u001b[43m      \u001b[49m\u001b[43mnum_outputs\u001b[49m\u001b[38;5;241;43m=\u001b[39;49m\u001b[43mnum_outputs\u001b[49m\u001b[43m,\u001b[49m\n\u001b[0;32m   1460\u001b[0m \u001b[43m      \u001b[49m\u001b[43minputs\u001b[49m\u001b[38;5;241;43m=\u001b[39;49m\u001b[43mtensor_inputs\u001b[49m\u001b[43m,\u001b[49m\n\u001b[0;32m   1461\u001b[0m \u001b[43m      \u001b[49m\u001b[43mattrs\u001b[49m\u001b[38;5;241;43m=\u001b[39;49m\u001b[43mattrs\u001b[49m\u001b[43m,\u001b[49m\n\u001b[0;32m   1462\u001b[0m \u001b[43m      \u001b[49m\u001b[43mctx\u001b[49m\u001b[38;5;241;43m=\u001b[39;49m\u001b[38;5;28;43mself\u001b[39;49m\u001b[43m,\u001b[49m\n\u001b[0;32m   1463\u001b[0m \u001b[43m  \u001b[49m\u001b[43m)\u001b[49m\n\u001b[0;32m   1464\u001b[0m \u001b[38;5;28;01melse\u001b[39;00m:\n\u001b[0;32m   1465\u001b[0m   outputs \u001b[38;5;241m=\u001b[39m execute\u001b[38;5;241m.\u001b[39mexecute_with_cancellation(\n\u001b[0;32m   1466\u001b[0m       name\u001b[38;5;241m.\u001b[39mdecode(\u001b[38;5;124m\"\u001b[39m\u001b[38;5;124mutf-8\u001b[39m\u001b[38;5;124m\"\u001b[39m),\n\u001b[0;32m   1467\u001b[0m       num_outputs\u001b[38;5;241m=\u001b[39mnum_outputs,\n\u001b[1;32m   (...)\u001b[0m\n\u001b[0;32m   1471\u001b[0m       cancellation_manager\u001b[38;5;241m=\u001b[39mcancellation_context,\n\u001b[0;32m   1472\u001b[0m   )\n",
      "File \u001b[1;32mc:\\Users\\hetb0\\Desktop\\Projects\\ASL_translator\\.venv\\lib\\site-packages\\tensorflow\\python\\eager\\execute.py:53\u001b[0m, in \u001b[0;36mquick_execute\u001b[1;34m(op_name, num_outputs, inputs, attrs, ctx, name)\u001b[0m\n\u001b[0;32m     51\u001b[0m \u001b[38;5;28;01mtry\u001b[39;00m:\n\u001b[0;32m     52\u001b[0m   ctx\u001b[38;5;241m.\u001b[39mensure_initialized()\n\u001b[1;32m---> 53\u001b[0m   tensors \u001b[38;5;241m=\u001b[39m \u001b[43mpywrap_tfe\u001b[49m\u001b[38;5;241;43m.\u001b[39;49m\u001b[43mTFE_Py_Execute\u001b[49m\u001b[43m(\u001b[49m\u001b[43mctx\u001b[49m\u001b[38;5;241;43m.\u001b[39;49m\u001b[43m_handle\u001b[49m\u001b[43m,\u001b[49m\u001b[43m \u001b[49m\u001b[43mdevice_name\u001b[49m\u001b[43m,\u001b[49m\u001b[43m \u001b[49m\u001b[43mop_name\u001b[49m\u001b[43m,\u001b[49m\n\u001b[0;32m     54\u001b[0m \u001b[43m                                      \u001b[49m\u001b[43minputs\u001b[49m\u001b[43m,\u001b[49m\u001b[43m \u001b[49m\u001b[43mattrs\u001b[49m\u001b[43m,\u001b[49m\u001b[43m \u001b[49m\u001b[43mnum_outputs\u001b[49m\u001b[43m)\u001b[49m\n\u001b[0;32m     55\u001b[0m \u001b[38;5;28;01mexcept\u001b[39;00m core\u001b[38;5;241m.\u001b[39m_NotOkStatusException \u001b[38;5;28;01mas\u001b[39;00m e:\n\u001b[0;32m     56\u001b[0m   \u001b[38;5;28;01mif\u001b[39;00m name \u001b[38;5;129;01mis\u001b[39;00m \u001b[38;5;129;01mnot\u001b[39;00m \u001b[38;5;28;01mNone\u001b[39;00m:\n",
      "\u001b[1;31mKeyboardInterrupt\u001b[0m: "
     ]
    }
   ],
   "source": [
    "history = model.fit(\n",
    "    X_train, y_train,\n",
    "    epochs=200,\n",
    "    validation_data=(X_test, y_test),\n",
    "    batch_size=16,\n",
    "    callbacks=[tb_callback]  # Add EarlyStopping if needed\n",
    ")\n"
   ]
  },
  {
   "cell_type": "code",
   "execution_count": 368,
   "metadata": {},
   "outputs": [
    {
     "data": {
      "image/png": "[encoded data removed]",
      "text/plain": [
       "<Figure size 640x480 with 1 Axes>"
      ]
     },
     "metadata": {},
     "output_type": "display_data"
    },
    {
     "data": {
      "image/png": "[encoded data removed]",
      "text/plain": [
       "<Figure size 640x480 with 1 Axes>"
      ]
     },
     "metadata": {},
     "output_type": "display_data"
    }
   ],
   "source": [
    "import matplotlib.pyplot as plt\n",
    "\n",
    "# Plot training and validation accuracy\n",
    "plt.plot(history.history['categorical_accuracy'], label='Train Accuracy')\n",
    "plt.plot(history.history['val_categorical_accuracy'], label='Validation Accuracy')\n",
    "plt.xlabel('Epochs')\n",
    "plt.ylabel('Accuracy')\n",
    "plt.legend()\n",
    "plt.show()\n",
    "\n",
    "# Plot training and validation loss\n",
    "plt.plot(history.history['loss'], label='Train Loss')\n",
    "plt.plot(history.history['val_loss'], label='Validation Loss')\n",
    "plt.xlabel('Epochs')\n",
    "plt.ylabel('Loss')\n",
    "plt.legend()\n",
    "plt.show()\n"
   ]
  },
  {
   "cell_type": "code",
   "execution_count": 369,
   "metadata": {},
   "outputs": [
    {
     "name": "stderr",
     "output_type": "stream",
     "text": [
      "c:\\Users\\hetb0\\Desktop\\Projects\\ASL_translator\\.venv\\lib\\site-packages\\keras\\src\\engine\\training.py:3000: UserWarning: You are saving your model as an HDF5 file via `model.save()`. This file format is considered legacy. We recommend using instead the native Keras format, e.g. `model.save('my_model.keras')`.\n",
      "  saving_api.save_model(\n"
     ]
    }
   ],
   "source": [
    "model.save('action.h5')  # Saves the architecture, weights, and training configuration.\n"
   ]
  },
  {
   "cell_type": "code",
   "execution_count": null,
   "metadata": {},
   "outputs": [],
   "source": [
    "# model = Sequential()\n",
    "# model.add(LSTM(32, return_sequences=True, activation='relu', input_shape=(30, 1662)))\n",
    "# model.add(LSTM(64, return_sequences=False, activation='relu'))\n",
    "# model.add(Dense(32, activation='relu'))\n",
    "# model.add(Dense(len(actions), activation='softmax'))  # Use len(actions) to determine the number of classes\n",
    "# model.compile(optimizer='Adam', loss='categorical_crossentropy', metrics=['categorical_accuracy'])\n"
   ]
  },
  {
   "cell_type": "code",
   "execution_count": 243,
   "metadata": {},
   "outputs": [],
   "source": [
    "\n",
    "# # Compile the model\n",
    "# model.compile(\n",
    "#     optimizer='Adam',\n",
    "#     loss='categorical_crossentropy',\n",
    "#     metrics=['categorical_accuracy']\n",
    "# )\n",
    "\n",
    "\n",
    "\n",
    "# model.fit(X_train, y_train, epochs=2000, callbacks=[tb_callback])"
   ]
  },
  {
   "cell_type": "code",
   "execution_count": null,
   "metadata": {},
   "outputs": [],
   "source": [
    "# from tensorflow.keras.callbacks import Callback\n",
    "\n",
    "# # Custom callback to stop training when accuracy > 90%\n",
    "# class StopTrainingAt90(Callback):\n",
    "#     def on_epoch_end(self, epoch, logs=None):\n",
    "#         if logs.get('val_categorical_accuracy') > 0.90:\n",
    "#             print(f\"\\nStopping training as validation accuracy reached {logs.get('val_categorical_accuracy'):.2%}\")\n",
    "#             self.model.stop_training = True\n",
    "\n",
    "# # Add this callback to your model's training\n",
    "# stop_at_90 = StopTrainingAt90()\n",
    "\n",
    "# # Train the model with this callback\n",
    "# history = model.fit(a\n",
    "#     X_train, y_train,\n",
    "#     validation_data=(X_test, y_test),\n",
    "#     epochs=2000,  # Set a high number to allow the callback to stop early\n",
    "#     callbacks=[tb_callback, stop_at_90]  # Add the custom callback\n",
    "# )\n"
   ]
  },
  {
   "cell_type": "code",
   "execution_count": 370,
   "metadata": {},
   "outputs": [
    {
     "name": "stdout",
     "output_type": "stream",
     "text": [
      "Model: \"sequential_8\"\n",
      "_________________________________________________________________\n",
      " Layer (type)                Output Shape              Param #   \n",
      "=================================================================\n",
      " lstm_20 (LSTM)              (None, 30, 64)            442112    \n",
      "                                                                 \n",
      " lstm_21 (LSTM)              (None, 128)               98816     \n",
      "                                                                 \n",
      " dense_19 (Dense)            (None, 64)                8256      \n",
      "                                                                 \n",
      " dense_20 (Dense)            (None, 3)                 195       \n",
      "                                                                 \n",
      "=================================================================\n",
      "Total params: 549379 (2.10 MB)\n",
      "Trainable params: 549379 (2.10 MB)\n",
      "Non-trainable params: 0 (0.00 Byte)\n",
      "_________________________________________________________________\n"
     ]
    }
   ],
   "source": [
    "model.summary()"
   ]
  },
  {
   "cell_type": "markdown",
   "metadata": {},
   "source": [
    "# 8. Making Predictions "
   ]
  },
  {
   "cell_type": "code",
   "execution_count": 371,
   "metadata": {},
   "outputs": [
    {
     "name": "stdout",
     "output_type": "stream",
     "text": [
      "1/1 [==============================] - 0s 343ms/step\n"
     ]
    }
   ],
   "source": [
    "res = model.predict(X_test)"
   ]
  },
  {
   "cell_type": "code",
   "execution_count": 372,
   "metadata": {},
   "outputs": [
    {
     "data": {
      "text/plain": [
       "'thanks'"
      ]
     },
     "execution_count": 372,
     "metadata": {},
     "output_type": "execute_result"
    }
   ],
   "source": [
    "actions[np.argmax(res[3])]"
   ]
  },
  {
   "cell_type": "code",
   "execution_count": 373,
   "metadata": {},
   "outputs": [
    {
     "data": {
      "text/plain": [
       "'hello'"
      ]
     },
     "execution_count": 373,
     "metadata": {},
     "output_type": "execute_result"
    }
   ],
   "source": [
    "actions[np.argmax(y_test[1])]"
   ]
  },
  {
   "cell_type": "code",
   "execution_count": 374,
   "metadata": {},
   "outputs": [],
   "source": [
    "model.save('action.h5')"
   ]
  },
  {
   "cell_type": "markdown",
   "metadata": {},
   "source": [
    "# 9. Model Evaluation "
   ]
  },
  {
   "cell_type": "code",
   "execution_count": 375,
   "metadata": {},
   "outputs": [
    {
     "name": "stdout",
     "output_type": "stream",
     "text": [
      "              precision    recall  f1-score   support\n",
      "\n",
      "       hello       1.00      1.00      1.00         4\n",
      "      thanks       1.00      1.00      1.00         3\n",
      "    iloveyou       1.00      1.00      1.00         2\n",
      "\n",
      "    accuracy                           1.00         9\n",
      "   macro avg       1.00      1.00      1.00         9\n",
      "weighted avg       1.00      1.00      1.00         9\n",
      "\n"
     ]
    }
   ],
   "source": [
    "from sklearn.metrics import classification_report\n",
    "print(classification_report(ytrue, yhat, target_names=actions))"
   ]
  },
  {
   "cell_type": "code",
   "execution_count": 376,
   "metadata": {},
   "outputs": [
    {
     "name": "stdout",
     "output_type": "stream",
     "text": [
      "1/1 [==============================] - 0s 51ms/step\n"
     ]
    }
   ],
   "source": [
    "ytrue = np.argmax(y_test, axis=1).tolist()\n",
    "yhat = np.argmax(model.predict(X_test), axis=1).tolist()\n"
   ]
  },
  {
   "cell_type": "code",
   "execution_count": 377,
   "metadata": {},
   "outputs": [
    {
     "data": {
      "text/plain": [
       "array([[[5, 0],\n",
       "        [0, 4]],\n",
       "\n",
       "       [[6, 0],\n",
       "        [0, 3]],\n",
       "\n",
       "       [[7, 0],\n",
       "        [0, 2]]], dtype=int64)"
      ]
     },
     "execution_count": 377,
     "metadata": {},
     "output_type": "execute_result"
    }
   ],
   "source": [
    "multilabel_confusion_matrix(ytrue, yhat)"
   ]
  },
  {
   "cell_type": "code",
   "execution_count": 378,
   "metadata": {},
   "outputs": [
    {
     "data": {
      "image/png": "[encoded data removed]",
      "text/plain": [
       "<Figure size 640x480 with 2 Axes>"
      ]
     },
     "metadata": {},
     "output_type": "display_data"
    }
   ],
   "source": [
    "import seaborn as sns\n",
    "import matplotlib.pyplot as plt\n",
    "from sklearn.metrics import confusion_matrix\n",
    "\n",
    "cm = confusion_matrix(ytrue, yhat)\n",
    "sns.heatmap(cm, annot=True, fmt='d', xticklabels=actions, yticklabels=actions)\n",
    "plt.xlabel('Predicted')\n",
    "plt.ylabel('True')\n",
    "plt.show()\n"
   ]
  },
  {
   "cell_type": "code",
   "execution_count": 379,
   "metadata": {},
   "outputs": [
    {
     "data": {
      "text/plain": [
       "1.0"
      ]
     },
     "execution_count": 379,
     "metadata": {},
     "output_type": "execute_result"
    }
   ],
   "source": [
    "accuracy_score(ytrue,yhat)"
   ]
  },
  {
   "cell_type": "markdown",
   "metadata": {},
   "source": [
    "# 10. Real Time Model Test "
   ]
  },
  {
   "cell_type": "code",
   "execution_count": 380,
   "metadata": {},
   "outputs": [],
   "source": [
    "from scipy import stats\n",
    "from matplotlib import pyplot as plt\n"
   ]
  },
  {
   "cell_type": "code",
   "execution_count": 381,
   "metadata": {},
   "outputs": [
    {
     "data": {
      "image/png": "[encoded data removed]",
      "text/plain": [
       "<Figure size 1000x600 with 1 Axes>"
      ]
     },
     "metadata": {},
     "output_type": "display_data"
    }
   ],
   "source": [
    "from scipy import stats\n",
    "from matplotlib import pyplot as plt\n",
    "import numpy as np\n",
    "import cv2\n",
    "\n",
    "# Define action colors\n",
    "colors = [(245, 117, 16), (117, 245, 16), (16, 117, 245)]\n",
    "\n",
    "def prob_viz(res, actions, input_frame, colors):\n",
    "    \"\"\"\n",
    "    Visualize the probabilities for each action by overlaying rectangles and labels on the frame.\n",
    "\n",
    "    Args:\n",
    "        res (list or np.array): The probabilities predicted by the model for each action.\n",
    "        actions (list): The list of action names.\n",
    "        input_frame (np.array): The input video frame.\n",
    "        colors (list): A list of colors for each action.\n",
    "\n",
    "    Returns:\n",
    "        np.array: The output frame with visualized probabilities.\n",
    "    \"\"\"\n",
    "    output_frame = input_frame.copy()  # Make a copy of the frame to draw on\n",
    "    overlay = output_frame.copy()  # Create an overlay for transparency\n",
    "    alpha = 0.6  # Transparency level\n",
    "\n",
    "    for num, prob in enumerate(res):\n",
    "        prob = float(prob)  # Ensure prob is a scalar\n",
    "        # Draw semi-transparent background for the bar\n",
    "        cv2.rectangle(overlay, (0, 60 + num * 50), (300, 100 + num * 50), (50, 50, 50), -1)\n",
    "        # Draw the probability bar\n",
    "        cv2.rectangle(overlay, (0, 60 + num * 50), (int(prob * 300), 100 + num * 50), colors[num], -1)\n",
    "        # Add action text with the probability\n",
    "        cv2.putText(overlay, f'{actions[num]}: {prob:.2f}', \n",
    "                    (10, 90 + num * 50), cv2.FONT_HERSHEY_SIMPLEX, 0.8, (255, 255, 255), 2, cv2.LINE_AA)\n",
    "    \n",
    "    # Blend the overlay with the original frame\n",
    "    cv2.addWeighted(overlay, alpha, output_frame, 1 - alpha, 0, output_frame)\n",
    "    return output_frame\n",
    "\n",
    "# Example usage\n",
    "res = np.array([0.6, 0.3, 0.1])  # Example probabilities\n",
    "actions = ['hello', 'thanks', 'iloveyou']  # Example actions\n",
    "colors = [(245, 117, 16), (117, 245, 16), (16, 117, 245)]  # Colors for visualization\n",
    "\n",
    "# Create a blank input frame (for demonstration purposes)\n",
    "image = np.zeros((480, 640, 3), dtype=np.uint8)\n",
    "\n",
    "# Plot the visualization\n",
    "plt.figure(figsize=(10, 6))\n",
    "plt.imshow(cv2.cvtColor(prob_viz(res, actions, image, colors), cv2.COLOR_BGR2RGB))\n",
    "plt.axis('off')  # Remove axis for better visualization\n",
    "plt.show()\n"
   ]
  },
  {
   "cell_type": "code",
   "execution_count": 382,
   "metadata": {},
   "outputs": [
    {
     "name": "stdout",
     "output_type": "stream",
     "text": [
      "1/1 [==============================] - 0s 31ms/step\n",
      "Predicted Action: iloveyou, Confidence: 1.00\n",
      "1/1 [==============================] - 0s 38ms/step\n",
      "Predicted Action: iloveyou, Confidence: 1.00\n",
      "1/1 [==============================] - 0s 35ms/step\n",
      "Predicted Action: iloveyou, Confidence: 1.00\n",
      "1/1 [==============================] - 0s 37ms/step\n",
      "Predicted Action: iloveyou, Confidence: 1.00\n",
      "1/1 [==============================] - 0s 32ms/step\n",
      "Predicted Action: iloveyou, Confidence: 1.00\n",
      "1/1 [==============================] - 0s 37ms/step\n",
      "Predicted Action: iloveyou, Confidence: 1.00\n",
      "1/1 [==============================] - 0s 38ms/step\n",
      "Predicted Action: iloveyou, Confidence: 1.00\n",
      "1/1 [==============================] - 0s 33ms/step\n",
      "Predicted Action: iloveyou, Confidence: 0.99\n",
      "1/1 [==============================] - 0s 27ms/step\n",
      "Predicted Action: iloveyou, Confidence: 0.99\n",
      "1/1 [==============================] - 0s 25ms/step\n",
      "Predicted Action: iloveyou, Confidence: 0.98\n",
      "1/1 [==============================] - 0s 27ms/step\n",
      "Predicted Action: iloveyou, Confidence: 0.99\n",
      "1/1 [==============================] - 0s 31ms/step\n",
      "Predicted Action: iloveyou, Confidence: 0.99\n",
      "1/1 [==============================] - 0s 25ms/step\n",
      "Predicted Action: iloveyou, Confidence: 0.97\n",
      "1/1 [==============================] - 0s 25ms/step\n",
      "Predicted Action: iloveyou, Confidence: 0.95\n",
      "1/1 [==============================] - 0s 26ms/step\n",
      "Predicted Action: iloveyou, Confidence: 0.96\n",
      "1/1 [==============================] - 0s 26ms/step\n",
      "Predicted Action: iloveyou, Confidence: 0.93\n",
      "1/1 [==============================] - 0s 26ms/step\n",
      "Predicted Action: iloveyou, Confidence: 0.93\n",
      "1/1 [==============================] - 0s 30ms/step\n",
      "Predicted Action: iloveyou, Confidence: 0.93\n",
      "1/1 [==============================] - 0s 26ms/step\n",
      "Predicted Action: iloveyou, Confidence: 0.87\n",
      "1/1 [==============================] - 0s 25ms/step\n",
      "Predicted Action: iloveyou, Confidence: 0.80\n",
      "1/1 [==============================] - 0s 25ms/step\n",
      "Predicted Action: iloveyou, Confidence: 0.72\n",
      "1/1 [==============================] - 0s 25ms/step\n",
      "Predicted Action: iloveyou, Confidence: 0.58\n",
      "1/1 [==============================] - 0s 27ms/step\n",
      "Predicted Action: iloveyou, Confidence: 0.48\n",
      "1/1 [==============================] - 0s 31ms/step\n",
      "Predicted Action: thanks, Confidence: 0.58\n",
      "1/1 [==============================] - 0s 26ms/step\n",
      "Predicted Action: thanks, Confidence: 0.73\n",
      "1/1 [==============================] - 0s 29ms/step\n",
      "Predicted Action: thanks, Confidence: 0.86\n",
      "1/1 [==============================] - 0s 23ms/step\n",
      "Predicted Action: thanks, Confidence: 0.94\n",
      "1/1 [==============================] - 0s 30ms/step\n",
      "Predicted Action: thanks, Confidence: 0.98\n",
      "1/1 [==============================] - 0s 28ms/step\n",
      "Predicted Action: thanks, Confidence: 1.00\n",
      "1/1 [==============================] - 0s 29ms/step\n",
      "Predicted Action: thanks, Confidence: 1.00\n",
      "1/1 [==============================] - 0s 32ms/step\n",
      "Predicted Action: thanks, Confidence: 1.00\n",
      "1/1 [==============================] - 0s 26ms/step\n",
      "Predicted Action: thanks, Confidence: 1.00\n",
      "1/1 [==============================] - 0s 30ms/step\n",
      "Predicted Action: thanks, Confidence: 1.00\n",
      "1/1 [==============================] - 0s 36ms/step\n",
      "Predicted Action: thanks, Confidence: 1.00\n",
      "1/1 [==============================] - 0s 26ms/step\n",
      "Predicted Action: thanks, Confidence: 1.00\n",
      "1/1 [==============================] - 0s 29ms/step\n",
      "Predicted Action: thanks, Confidence: 1.00\n",
      "1/1 [==============================] - 0s 33ms/step\n",
      "Predicted Action: thanks, Confidence: 1.00\n",
      "1/1 [==============================] - 0s 31ms/step\n",
      "Predicted Action: thanks, Confidence: 1.00\n",
      "1/1 [==============================] - 0s 31ms/step\n",
      "Predicted Action: thanks, Confidence: 1.00\n",
      "1/1 [==============================] - 0s 34ms/step\n",
      "Predicted Action: thanks, Confidence: 1.00\n",
      "1/1 [==============================] - 0s 30ms/step\n",
      "Predicted Action: thanks, Confidence: 1.00\n",
      "1/1 [==============================] - 0s 31ms/step\n",
      "Predicted Action: thanks, Confidence: 1.00\n",
      "1/1 [==============================] - 0s 26ms/step\n",
      "Predicted Action: thanks, Confidence: 1.00\n",
      "1/1 [==============================] - 0s 35ms/step\n",
      "Predicted Action: thanks, Confidence: 1.00\n",
      "1/1 [==============================] - 0s 26ms/step\n",
      "Predicted Action: thanks, Confidence: 1.00\n",
      "1/1 [==============================] - 0s 31ms/step\n",
      "Predicted Action: thanks, Confidence: 1.00\n",
      "1/1 [==============================] - 0s 32ms/step\n",
      "Predicted Action: thanks, Confidence: 1.00\n",
      "1/1 [==============================] - 0s 26ms/step\n",
      "Predicted Action: thanks, Confidence: 1.00\n",
      "1/1 [==============================] - 0s 28ms/step\n",
      "Predicted Action: thanks, Confidence: 1.00\n",
      "1/1 [==============================] - 0s 31ms/step\n",
      "Predicted Action: thanks, Confidence: 1.00\n",
      "1/1 [==============================] - 0s 25ms/step\n",
      "Predicted Action: thanks, Confidence: 1.00\n",
      "1/1 [==============================] - 0s 30ms/step\n",
      "Predicted Action: thanks, Confidence: 1.00\n",
      "1/1 [==============================] - 0s 35ms/step\n",
      "Predicted Action: thanks, Confidence: 1.00\n",
      "1/1 [==============================] - 0s 25ms/step\n",
      "Predicted Action: thanks, Confidence: 1.00\n",
      "1/1 [==============================] - 0s 32ms/step\n",
      "Predicted Action: thanks, Confidence: 1.00\n",
      "1/1 [==============================] - 0s 27ms/step\n",
      "Predicted Action: thanks, Confidence: 0.90\n",
      "1/1 [==============================] - 0s 28ms/step\n",
      "Predicted Action: hello, Confidence: 0.70\n",
      "1/1 [==============================] - 0s 27ms/step\n",
      "Predicted Action: hello, Confidence: 0.96\n",
      "1/1 [==============================] - 0s 28ms/step\n",
      "Predicted Action: hello, Confidence: 0.99\n",
      "1/1 [==============================] - 0s 27ms/step\n",
      "Predicted Action: hello, Confidence: 1.00\n",
      "1/1 [==============================] - 0s 27ms/step\n",
      "Predicted Action: hello, Confidence: 1.00\n",
      "1/1 [==============================] - 0s 29ms/step\n",
      "Predicted Action: hello, Confidence: 1.00\n",
      "1/1 [==============================] - 0s 25ms/step\n",
      "Predicted Action: hello, Confidence: 1.00\n",
      "1/1 [==============================] - 0s 28ms/step\n",
      "Predicted Action: hello, Confidence: 1.00\n",
      "1/1 [==============================] - 0s 33ms/step\n",
      "Predicted Action: hello, Confidence: 1.00\n",
      "1/1 [==============================] - 0s 24ms/step\n",
      "Predicted Action: hello, Confidence: 1.00\n",
      "1/1 [==============================] - 0s 30ms/step\n",
      "Predicted Action: hello, Confidence: 1.00\n",
      "1/1 [==============================] - 0s 28ms/step\n",
      "Predicted Action: hello, Confidence: 1.00\n",
      "1/1 [==============================] - 0s 31ms/step\n",
      "Predicted Action: hello, Confidence: 1.00\n",
      "1/1 [==============================] - 0s 27ms/step\n",
      "Predicted Action: hello, Confidence: 1.00\n",
      "1/1 [==============================] - 0s 33ms/step\n",
      "Predicted Action: hello, Confidence: 1.00\n",
      "1/1 [==============================] - 0s 30ms/step\n",
      "Predicted Action: hello, Confidence: 1.00\n",
      "1/1 [==============================] - 0s 36ms/step\n",
      "Predicted Action: hello, Confidence: 1.00\n",
      "1/1 [==============================] - 0s 33ms/step\n",
      "Predicted Action: hello, Confidence: 0.99\n",
      "1/1 [==============================] - 0s 32ms/step\n",
      "Predicted Action: hello, Confidence: 0.99\n",
      "1/1 [==============================] - 0s 30ms/step\n",
      "Predicted Action: hello, Confidence: 0.97\n",
      "1/1 [==============================] - 0s 34ms/step\n",
      "Predicted Action: hello, Confidence: 0.94\n",
      "1/1 [==============================] - 0s 27ms/step\n",
      "Predicted Action: hello, Confidence: 0.86\n",
      "1/1 [==============================] - 0s 26ms/step\n",
      "Predicted Action: hello, Confidence: 0.71\n",
      "1/1 [==============================] - 0s 31ms/step\n",
      "Predicted Action: hello, Confidence: 0.45\n",
      "1/1 [==============================] - 0s 28ms/step\n",
      "Predicted Action: iloveyou, Confidence: 0.67\n",
      "1/1 [==============================] - 0s 34ms/step\n",
      "Predicted Action: iloveyou, Confidence: 0.86\n",
      "1/1 [==============================] - 0s 33ms/step\n",
      "Predicted Action: iloveyou, Confidence: 0.93\n",
      "1/1 [==============================] - 0s 34ms/step\n",
      "Predicted Action: iloveyou, Confidence: 0.96\n",
      "1/1 [==============================] - 0s 28ms/step\n",
      "Predicted Action: iloveyou, Confidence: 0.98\n",
      "1/1 [==============================] - 0s 35ms/step\n",
      "Predicted Action: iloveyou, Confidence: 0.99\n",
      "1/1 [==============================] - 0s 25ms/step\n",
      "Predicted Action: iloveyou, Confidence: 0.99\n",
      "1/1 [==============================] - 0s 28ms/step\n",
      "Predicted Action: iloveyou, Confidence: 1.00\n",
      "1/1 [==============================] - 0s 34ms/step\n",
      "Predicted Action: iloveyou, Confidence: 1.00\n",
      "1/1 [==============================] - 0s 26ms/step\n",
      "Predicted Action: iloveyou, Confidence: 1.00\n",
      "1/1 [==============================] - 0s 20ms/step\n",
      "Predicted Action: iloveyou, Confidence: 1.00\n",
      "1/1 [==============================] - 0s 21ms/step\n",
      "Predicted Action: iloveyou, Confidence: 1.00\n",
      "1/1 [==============================] - 0s 18ms/step\n",
      "Predicted Action: iloveyou, Confidence: 1.00\n",
      "1/1 [==============================] - 0s 18ms/step\n",
      "Predicted Action: iloveyou, Confidence: 1.00\n",
      "1/1 [==============================] - 0s 18ms/step\n",
      "Predicted Action: iloveyou, Confidence: 1.00\n",
      "1/1 [==============================] - 0s 33ms/step\n",
      "Predicted Action: iloveyou, Confidence: 1.00\n",
      "1/1 [==============================] - 0s 35ms/step\n",
      "Predicted Action: iloveyou, Confidence: 1.00\n",
      "1/1 [==============================] - 0s 28ms/step\n",
      "Predicted Action: iloveyou, Confidence: 1.00\n",
      "1/1 [==============================] - 0s 28ms/step\n",
      "Predicted Action: iloveyou, Confidence: 1.00\n"
     ]
    }
   ],
   "source": [
    "# Import necessary libraries\n",
    "import cv2\n",
    "import numpy as np\n",
    "import mediapipe as mp\n",
    "\n",
    "# Detection variables\n",
    "sequence = []\n",
    "sentence = []\n",
    "predictions = []\n",
    "threshold = 0.7  # Confidence threshold\n",
    "\n",
    "# Initialize webcam\n",
    "cap = cv2.VideoCapture(0)\n",
    "\n",
    "# Mediapipe model setup\n",
    "with mp_holistic.Holistic(min_detection_confidence=0.5, min_tracking_confidence=0.5) as holistic:\n",
    "    try:\n",
    "        while cap.isOpened():\n",
    "            # Read video frame\n",
    "            ret, frame = cap.read()\n",
    "            if not ret:\n",
    "                print(\"Failed to grab frame. Exiting...\")\n",
    "                break\n",
    "\n",
    "            # Perform Mediapipe detections\n",
    "            image, results = mediapipe_detection(frame, holistic)\n",
    "            \n",
    "            # Draw landmarks on the frame\n",
    "            draw_styled_landmarks(image, results)\n",
    "\n",
    "            # Extract keypoints for prediction\n",
    "            keypoints = extract_keypoints(results)\n",
    "            sequence.append(keypoints)\n",
    "            sequence = sequence[-30:]  # Keep only the last 30 frames\n",
    "\n",
    "            # Prediction logic\n",
    "            if len(sequence) == 30:\n",
    "                # Predict the action using the trained model\n",
    "                res = model.predict(np.expand_dims(sequence, axis=0))[0]\n",
    "                print(f\"Predicted Action: {actions[np.argmax(res)]}, Confidence: {res[np.argmax(res)]:.2f}\")\n",
    "                predictions.append(np.argmax(res))\n",
    "\n",
    "                # Stable predictions logic\n",
    "                if np.unique(predictions[-10:])[0] == np.argmax(res):\n",
    "                    if res[np.argmax(res)] > threshold:\n",
    "                        # Add to the sentence only if different from the last action\n",
    "                        if len(sentence) == 0 or actions[np.argmax(res)] != sentence[-1]:\n",
    "                            sentence.append(actions[np.argmax(res)])\n",
    "\n",
    "                # Keep only the last 5 sentences\n",
    "                if len(sentence) > 5:\n",
    "                    sentence = sentence[-5:]\n",
    "\n",
    "                # Add visualization to the frame\n",
    "                image = prob_viz(res, actions, image, colors)\n",
    "\n",
    "            # Add a title bar\n",
    "            cv2.rectangle(image, (0, 0), (640, 60), (0, 0, 0), -1)  # Black background\n",
    "            cv2.putText(image, 'Real-Time Gesture Recognition', (10, 40),\n",
    "                        cv2.FONT_HERSHEY_SIMPLEX, 1, (255, 255, 255), 2, cv2.LINE_AA)\n",
    "\n",
    "            # Display the predicted sentence\n",
    "            cv2.rectangle(image, (0, 420), (640, 480), (245, 117, 16), -1)  # Orange bar\n",
    "            cv2.putText(image, ' '.join(sentence), (10, 460),\n",
    "                        cv2.FONT_HERSHEY_SIMPLEX, 1, (255, 255, 255), 2, cv2.LINE_AA)\n",
    "\n",
    "            # Show the frame with the visualizations\n",
    "            cv2.imshow('OpenCV Feed', image)\n",
    "\n",
    "            # Break gracefully on pressing 'q'\n",
    "            if cv2.waitKey(10) & 0xFF == ord('q'):\n",
    "                break\n",
    "\n",
    "    except Exception as e:\n",
    "        print(f\"An error occurred: {e}\")\n",
    "\n",
    "    finally:\n",
    "        # Release resources\n",
    "        cap.release()\n",
    "        cv2.destroyAllWindows()\n"
   ]
  }
 ],
 "metadata": {
  "kernelspec": {
   "display_name": ".venv",
   "language": "python",
   "name": "python3"
  },
  "language_info": {
   "codemirror_mode": {
    "name": "ipython",
    "version": 3
   },
   "file_extension": ".py",
   "mimetype": "text/x-python",
   "name": "python",
   "nbconvert_exporter": "python",
   "pygments_lexer": "ipython3",
   "version": "3.8.0"
  }
 },
 "nbformat": 4,
 "nbformat_minor": 2
}
